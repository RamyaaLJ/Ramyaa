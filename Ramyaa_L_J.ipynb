{
  "nbformat": 4,
  "nbformat_minor": 0,
  "metadata": {
    "colab": {
      "name": "Ramyaa L J.ipynb",
      "provenance": []
    },
    "kernelspec": {
      "name": "python3",
      "display_name": "Python 3"
    },
    "language_info": {
      "name": "python"
    }
  },
  "cells": [
    {
      "cell_type": "code",
      "metadata": {
        "colab": {
          "base_uri": "https://localhost:8080/"
        },
        "id": "yqpb6mowxCSV",
        "outputId": "6b7af35b-12aa-443d-81d5-03f2eef4a49b"
      },
      "source": [
        "import hashlib\n",
        "a=input('Enter the string:')\n",
        "result=hashlib.md5(a.encode())\n",
        "print('The hexadecimal equivalent of hash is:',end=\" \")\n",
        "print(result.hexdigest())\n"
      ],
      "execution_count": 7,
      "outputs": [
        {
          "output_type": "stream",
          "text": [
            "Enter the string:Hello World\n",
            "The hexadecimal equivalent of hash is: b10a8db164e0754105b7a99be72e3fe5\n"
          ],
          "name": "stdout"
        }
      ]
    },
    {
      "cell_type": "code",
      "metadata": {
        "colab": {
          "base_uri": "https://localhost:8080/"
        },
        "id": "LOnpMU8aYzmc",
        "outputId": "169236f9-6b1f-4a53-9ade-bc224396aabf"
      },
      "source": [
        "import hashlib \n",
        "hash_object = hashlib.sha1(b'Machine Learning')\n",
        "hex_dig = hash_object.hexdigest()\n",
        "print('HexaDigit: ',hex_dig)"
      ],
      "execution_count": 6,
      "outputs": [
        {
          "output_type": "stream",
          "text": [
            "0a4d55a8d778e5022fab701977c5d840bbc486d0\n"
          ],
          "name": "stdout"
        }
      ]
    },
    {
      "cell_type": "code",
      "metadata": {
        "colab": {
          "base_uri": "https://localhost:8080/"
        },
        "id": "HHldBOIuaJay",
        "outputId": "14f4dbdb-8b5e-46f7-cd66-0a2449c95d65"
      },
      "source": [
        "import hashlib\n",
        "hash_object = hashlib.sha384(b'Python World')\n",
        "hex_dig = hash_object.hexdigest()\n",
        "print(hex_dig)"
      ],
      "execution_count": 8,
      "outputs": [
        {
          "output_type": "stream",
          "text": [
            "770563523e400789e1567bfe5c03d40e7a8536a084e0931923ea9c30df4d4da82b30e930dbb6fe16f405c5f378a7d830\n"
          ],
          "name": "stdout"
        }
      ]
    },
    {
      "cell_type": "code",
      "metadata": {
        "colab": {
          "base_uri": "https://localhost:8080/"
        },
        "id": "JoBiSALFaOIa",
        "outputId": "000417cc-0bd6-483f-dd50-de6112a0dfa1"
      },
      "source": [
        "import hashlib\n",
        "hash_object = hashlib.sha256(b'ShapeAI')\n",
        "hex_dig = hash_object.hexdigest()\n",
        "print(hex_dig)\n"
      ],
      "execution_count": 9,
      "outputs": [
        {
          "output_type": "stream",
          "text": [
            "71b1a9d99e0b1737fc0a92eae2c2fa983549b7b1e14b55fe56b643f5d7c39746\n"
          ],
          "name": "stdout"
        }
      ]
    }
  ]
}